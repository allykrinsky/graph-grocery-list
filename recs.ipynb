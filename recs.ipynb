{
 "cells": [
  {
   "cell_type": "code",
   "execution_count": 1,
   "metadata": {},
   "outputs": [],
   "source": [
    "import kuzu\n",
    "\n",
    "db = kuzu.Database(\"./final_db\")\n",
    "conn = kuzu.Connection(db)"
   ]
  },
  {
   "cell_type": "code",
   "execution_count": 2,
   "metadata": {},
   "outputs": [],
   "source": [
    "from graph import find_edges, list_recipes\n",
    "import pandas as pd"
   ]
  },
  {
   "cell_type": "code",
   "execution_count": 3,
   "metadata": {},
   "outputs": [
    {
     "data": {
      "text/html": [
       "<div>\n",
       "<style scoped>\n",
       "    .dataframe tbody tr th:only-of-type {\n",
       "        vertical-align: middle;\n",
       "    }\n",
       "\n",
       "    .dataframe tbody tr th {\n",
       "        vertical-align: top;\n",
       "    }\n",
       "\n",
       "    .dataframe thead th {\n",
       "        text-align: right;\n",
       "    }\n",
       "</style>\n",
       "<table border=\"1\" class=\"dataframe\">\n",
       "  <thead>\n",
       "    <tr style=\"text-align: right;\">\n",
       "      <th></th>\n",
       "      <th>n.name</th>\n",
       "      <th>n.display_name</th>\n",
       "    </tr>\n",
       "  </thead>\n",
       "  <tbody>\n",
       "    <tr>\n",
       "      <th>0</th>\n",
       "      <td>surf_turf</td>\n",
       "      <td>Surf &amp; Turf</td>\n",
       "    </tr>\n",
       "    <tr>\n",
       "      <th>1</th>\n",
       "      <td>korean_chicken_sandwhiches</td>\n",
       "      <td>Korean Chicken Sandwiches</td>\n",
       "    </tr>\n",
       "    <tr>\n",
       "      <th>2</th>\n",
       "      <td>sausage_risotto</td>\n",
       "      <td>Sausage Risotto</td>\n",
       "    </tr>\n",
       "    <tr>\n",
       "      <th>3</th>\n",
       "      <td>cherry_tomato_pasta</td>\n",
       "      <td>Cherry Tomato Pasta</td>\n",
       "    </tr>\n",
       "    <tr>\n",
       "      <th>4</th>\n",
       "      <td>salmon_bowl</td>\n",
       "      <td>Salmon Bowl</td>\n",
       "    </tr>\n",
       "    <tr>\n",
       "      <th>5</th>\n",
       "      <td>taco_bowl</td>\n",
       "      <td>Taco Bowl</td>\n",
       "    </tr>\n",
       "    <tr>\n",
       "      <th>6</th>\n",
       "      <td>curry</td>\n",
       "      <td>Curry</td>\n",
       "    </tr>\n",
       "    <tr>\n",
       "      <th>7</th>\n",
       "      <td>quinoa</td>\n",
       "      <td>Quinoa</td>\n",
       "    </tr>\n",
       "    <tr>\n",
       "      <th>8</th>\n",
       "      <td>vodka_pasta</td>\n",
       "      <td>Vodka Pasta</td>\n",
       "    </tr>\n",
       "    <tr>\n",
       "      <th>9</th>\n",
       "      <td>turkey_burger</td>\n",
       "      <td>Turkey Burger</td>\n",
       "    </tr>\n",
       "    <tr>\n",
       "      <th>10</th>\n",
       "      <td>italian_bean_soup</td>\n",
       "      <td>Italian Bean Soup</td>\n",
       "    </tr>\n",
       "    <tr>\n",
       "      <th>11</th>\n",
       "      <td>bone_broth_soup</td>\n",
       "      <td>Bone Broth Soup</td>\n",
       "    </tr>\n",
       "    <tr>\n",
       "      <th>12</th>\n",
       "      <td>mediterranean_bowl</td>\n",
       "      <td>Mediterranean Bowl</td>\n",
       "    </tr>\n",
       "    <tr>\n",
       "      <th>13</th>\n",
       "      <td>caesar_salad</td>\n",
       "      <td>Caesar Salad</td>\n",
       "    </tr>\n",
       "    <tr>\n",
       "      <th>14</th>\n",
       "      <td>short_rib_bowl</td>\n",
       "      <td>Short Rib Bowl</td>\n",
       "    </tr>\n",
       "    <tr>\n",
       "      <th>15</th>\n",
       "      <td>bolognese</td>\n",
       "      <td>Bolongnese</td>\n",
       "    </tr>\n",
       "    <tr>\n",
       "      <th>16</th>\n",
       "      <td>steak_salad</td>\n",
       "      <td>Steak Salad</td>\n",
       "    </tr>\n",
       "    <tr>\n",
       "      <th>17</th>\n",
       "      <td>chinese_chicken_salad</td>\n",
       "      <td>Chinese Chicken Salad</td>\n",
       "    </tr>\n",
       "    <tr>\n",
       "      <th>18</th>\n",
       "      <td>caprese_sandwich</td>\n",
       "      <td>Caprese Sanwich</td>\n",
       "    </tr>\n",
       "    <tr>\n",
       "      <th>19</th>\n",
       "      <td>steak_potato</td>\n",
       "      <td>Steak Potato</td>\n",
       "    </tr>\n",
       "    <tr>\n",
       "      <th>20</th>\n",
       "      <td>chili</td>\n",
       "      <td>Chilli</td>\n",
       "    </tr>\n",
       "    <tr>\n",
       "      <th>21</th>\n",
       "      <td>tomato_soup</td>\n",
       "      <td>Tomato Soup</td>\n",
       "    </tr>\n",
       "    <tr>\n",
       "      <th>22</th>\n",
       "      <td>chicken_teriyaki</td>\n",
       "      <td>Chicken Teriyaki</td>\n",
       "    </tr>\n",
       "    <tr>\n",
       "      <th>23</th>\n",
       "      <td>grilled_cheese</td>\n",
       "      <td>Grilled Cheese</td>\n",
       "    </tr>\n",
       "    <tr>\n",
       "      <th>24</th>\n",
       "      <td>blta</td>\n",
       "      <td>blta</td>\n",
       "    </tr>\n",
       "  </tbody>\n",
       "</table>\n",
       "</div>"
      ],
      "text/plain": [
       "                        n.name             n.display_name\n",
       "0                    surf_turf                Surf & Turf\n",
       "1   korean_chicken_sandwhiches  Korean Chicken Sandwiches\n",
       "2              sausage_risotto            Sausage Risotto\n",
       "3          cherry_tomato_pasta        Cherry Tomato Pasta\n",
       "4                  salmon_bowl                Salmon Bowl\n",
       "5                    taco_bowl                  Taco Bowl\n",
       "6                        curry                      Curry\n",
       "7                       quinoa                     Quinoa\n",
       "8                  vodka_pasta                Vodka Pasta\n",
       "9                turkey_burger              Turkey Burger\n",
       "10           italian_bean_soup          Italian Bean Soup\n",
       "11             bone_broth_soup            Bone Broth Soup\n",
       "12          mediterranean_bowl         Mediterranean Bowl\n",
       "13                caesar_salad               Caesar Salad\n",
       "14              short_rib_bowl             Short Rib Bowl\n",
       "15                   bolognese                 Bolongnese\n",
       "16                 steak_salad                Steak Salad\n",
       "17       chinese_chicken_salad      Chinese Chicken Salad\n",
       "18            caprese_sandwich            Caprese Sanwich\n",
       "19                steak_potato               Steak Potato\n",
       "20                       chili                     Chilli\n",
       "21                 tomato_soup                Tomato Soup\n",
       "22            chicken_teriyaki           Chicken Teriyaki\n",
       "23              grilled_cheese             Grilled Cheese\n",
       "24                        blta                       blta"
      ]
     },
     "execution_count": 3,
     "metadata": {},
     "output_type": "execute_result"
    }
   ],
   "source": [
    "list_recipes()"
   ]
  },
  {
   "cell_type": "code",
   "execution_count": 67,
   "metadata": {},
   "outputs": [],
   "source": [
    "def list_ids(name):\n",
    "    response = conn.execute(\n",
    "        \"\"\"\n",
    "        MATCH (n)-[r]->(m)\n",
    "        WHERE n.name = $name\n",
    "        RETURN m.name;\n",
    "        \"\"\", {\"name\" : name})\n",
    "    \n",
    "    df = response.get_as_df()\n",
    "    df.columns = ['Ingredient']\n",
    "\n",
    "    return df['Ingredient'].tolist()"
   ]
  },
  {
   "cell_type": "code",
   "execution_count": 16,
   "metadata": {},
   "outputs": [],
   "source": [
    "def get_similar_recipes(name):\n",
    "    response = conn.execute(\n",
    "        \"\"\"\n",
    "        MATCH (n:Recipe)-[r]->(m:Ingredient)\n",
    "        MATCH (s:Recipe)<-[q]-(p:Ingredient) \n",
    "        WHERE n.name = $name\n",
    "        AND p.name = m.name\n",
    "        AND s.name <> n.name\n",
    "        RETURN s.name as name, COUNT(s) as qty;\n",
    "        \"\"\", {\"name\" : name})\n",
    "    \n",
    "    df = response.get_as_df().sort_values(by='qty', ascending=False)\n",
    "    \n",
    "    return df\n",
    "    \n",
    "    return df"
   ]
  },
  {
   "cell_type": "code",
   "execution_count": 65,
   "metadata": {},
   "outputs": [
    {
     "name": "stdout",
     "output_type": "stream",
     "text": [
      "                     name  qty\n",
      "4             vodka_pasta    3\n",
      "11            tomato_soup    3\n",
      "2             steak_salad    2\n",
      "5                  quinoa    2\n",
      "6         sausage_risotto    2\n",
      "9     cherry_tomato_pasta    2\n",
      "0                    blta    1\n",
      "1   chinese_chicken_salad    1\n",
      "3           turkey_burger    1\n",
      "7                   chili    1\n",
      "8               bolognese    1\n",
      "10     mediterranean_bowl    1\n",
      "                          name  qty\n",
      "12          mediterranean_bowl    4\n",
      "2                         blta    2\n",
      "3        chinese_chicken_salad    2\n",
      "4                 caesar_salad    2\n",
      "5                turkey_burger    2\n",
      "7                  vodka_pasta    2\n",
      "8                       quinoa    2\n",
      "9          cherry_tomato_pasta    2\n",
      "10  korean_chicken_sandwhiches    2\n",
      "0                 steak_potato    1\n",
      "1                    surf_turf    1\n",
      "6                    bolognese    1\n",
      "11                 tomato_soup    1\n",
      "13                       curry    1\n"
     ]
    }
   ],
   "source": [
    "df1 = get_similar_recipes('caesar_salad')\n",
    "df2 = get_similar_recipes('steak_salad')\n",
    "\n",
    "print(df1)\n",
    "print(df2)"
   ]
  },
  {
   "cell_type": "code",
   "execution_count": 8,
   "metadata": {},
   "outputs": [
    {
     "name": "stdout",
     "output_type": "stream",
     "text": [
      "['steak_salad', 'blta']\n"
     ]
    },
    {
     "data": {
      "text/html": [
       "<div>\n",
       "<style scoped>\n",
       "    .dataframe tbody tr th:only-of-type {\n",
       "        vertical-align: middle;\n",
       "    }\n",
       "\n",
       "    .dataframe tbody tr th {\n",
       "        vertical-align: top;\n",
       "    }\n",
       "\n",
       "    .dataframe thead th {\n",
       "        text-align: right;\n",
       "    }\n",
       "</style>\n",
       "<table border=\"1\" class=\"dataframe\">\n",
       "  <thead>\n",
       "    <tr style=\"text-align: right;\">\n",
       "      <th></th>\n",
       "      <th>similarRecipe.name</th>\n",
       "      <th>sharedIngredientCount</th>\n",
       "    </tr>\n",
       "  </thead>\n",
       "  <tbody>\n",
       "    <tr>\n",
       "      <th>0</th>\n",
       "      <td>mediterranean_bowl</td>\n",
       "      <td>4</td>\n",
       "    </tr>\n",
       "    <tr>\n",
       "      <th>1</th>\n",
       "      <td>turkey_burger</td>\n",
       "      <td>3</td>\n",
       "    </tr>\n",
       "    <tr>\n",
       "      <th>2</th>\n",
       "      <td>chinese_chicken_salad</td>\n",
       "      <td>2</td>\n",
       "    </tr>\n",
       "    <tr>\n",
       "      <th>3</th>\n",
       "      <td>caesar_salad</td>\n",
       "      <td>2</td>\n",
       "    </tr>\n",
       "    <tr>\n",
       "      <th>4</th>\n",
       "      <td>vodka_pasta</td>\n",
       "      <td>2</td>\n",
       "    </tr>\n",
       "    <tr>\n",
       "      <th>5</th>\n",
       "      <td>cherry_tomato_pasta</td>\n",
       "      <td>2</td>\n",
       "    </tr>\n",
       "    <tr>\n",
       "      <th>6</th>\n",
       "      <td>caprese_sandwich</td>\n",
       "      <td>2</td>\n",
       "    </tr>\n",
       "    <tr>\n",
       "      <th>7</th>\n",
       "      <td>quinoa</td>\n",
       "      <td>2</td>\n",
       "    </tr>\n",
       "    <tr>\n",
       "      <th>8</th>\n",
       "      <td>korean_chicken_sandwhiches</td>\n",
       "      <td>2</td>\n",
       "    </tr>\n",
       "    <tr>\n",
       "      <th>9</th>\n",
       "      <td>grilled_cheese</td>\n",
       "      <td>2</td>\n",
       "    </tr>\n",
       "    <tr>\n",
       "      <th>10</th>\n",
       "      <td>steak_potato</td>\n",
       "      <td>1</td>\n",
       "    </tr>\n",
       "    <tr>\n",
       "      <th>11</th>\n",
       "      <td>surf_turf</td>\n",
       "      <td>1</td>\n",
       "    </tr>\n",
       "    <tr>\n",
       "      <th>12</th>\n",
       "      <td>curry</td>\n",
       "      <td>1</td>\n",
       "    </tr>\n",
       "    <tr>\n",
       "      <th>13</th>\n",
       "      <td>tomato_soup</td>\n",
       "      <td>1</td>\n",
       "    </tr>\n",
       "    <tr>\n",
       "      <th>14</th>\n",
       "      <td>bolognese</td>\n",
       "      <td>1</td>\n",
       "    </tr>\n",
       "  </tbody>\n",
       "</table>\n",
       "</div>"
      ],
      "text/plain": [
       "            similarRecipe.name  sharedIngredientCount\n",
       "0           mediterranean_bowl                      4\n",
       "1                turkey_burger                      3\n",
       "2        chinese_chicken_salad                      2\n",
       "3                 caesar_salad                      2\n",
       "4                  vodka_pasta                      2\n",
       "5          cherry_tomato_pasta                      2\n",
       "6             caprese_sandwich                      2\n",
       "7                       quinoa                      2\n",
       "8   korean_chicken_sandwhiches                      2\n",
       "9               grilled_cheese                      2\n",
       "10                steak_potato                      1\n",
       "11                   surf_turf                      1\n",
       "12                       curry                      1\n",
       "13                 tomato_soup                      1\n",
       "14                   bolognese                      1"
      ]
     },
     "execution_count": 8,
     "metadata": {},
     "output_type": "execute_result"
    }
   ],
   "source": [
    "def get_similar_recipes_multi(names):\n",
    "    print(names)\n",
    "    response = conn.execute(\n",
    "        \"\"\"\n",
    "        UNWIND $inputRecipes AS inputRecipeName\n",
    "        MATCH (inputRecipe:Recipe {name: inputRecipeName})-[:Contains]->(inputIngredient:Ingredient)\n",
    "        WITH inputIngredient, COLLECT(inputRecipe) AS inputRecipes\n",
    "        MATCH (similarRecipe:Recipe)<-[:UsedIn]-(similarIngredient:Ingredient)\n",
    "        WHERE similarIngredient.name = inputIngredient.name\n",
    "        AND NOT similarRecipe IN inputRecipes\n",
    "        WITH similarRecipe, collect(similarIngredient) AS sharedIngredients\n",
    "        WHERE size(sharedIngredients) > 0\n",
    "        RETURN similarRecipe.name, size(sharedIngredients) AS sharedIngredientCount\n",
    "        ORDER BY sharedIngredientCount DESC;\n",
    "        \"\"\", {\"inputRecipes\" : names}\n",
    "    )\n",
    "    \n",
    "    df = response.get_as_df()\n",
    "    \n",
    "    return df\n",
    "\n",
    "get_similar_recipes_multi(['steak_salad', 'blta'])"
   ]
  },
  {
   "cell_type": "code",
   "execution_count": 96,
   "metadata": {},
   "outputs": [
    {
     "data": {
      "text/html": [
       "<div>\n",
       "<style scoped>\n",
       "    .dataframe tbody tr th:only-of-type {\n",
       "        vertical-align: middle;\n",
       "    }\n",
       "\n",
       "    .dataframe tbody tr th {\n",
       "        vertical-align: top;\n",
       "    }\n",
       "\n",
       "    .dataframe thead th {\n",
       "        text-align: right;\n",
       "    }\n",
       "</style>\n",
       "<table border=\"1\" class=\"dataframe\">\n",
       "  <thead>\n",
       "    <tr style=\"text-align: right;\">\n",
       "      <th></th>\n",
       "      <th>inputIngredient</th>\n",
       "      <th>inputRecipes</th>\n",
       "      <th>similarRecipe</th>\n",
       "      <th>similarIngredient</th>\n",
       "    </tr>\n",
       "  </thead>\n",
       "  <tbody>\n",
       "  </tbody>\n",
       "</table>\n",
       "</div>"
      ],
      "text/plain": [
       "Empty DataFrame\n",
       "Columns: [inputIngredient, inputRecipes, similarRecipe, similarIngredient]\n",
       "Index: []"
      ]
     },
     "execution_count": 96,
     "metadata": {},
     "output_type": "execute_result"
    }
   ],
   "source": [
    "df"
   ]
  },
  {
   "cell_type": "code",
   "execution_count": 93,
   "metadata": {},
   "outputs": [
    {
     "data": {
      "text/plain": [
       "{'_id': {'offset': 0, 'table': 0},\n",
       " '_label': 'Ingredient',\n",
       " 'name': 'steak',\n",
       " 'display_name': 'steak',\n",
       " 'type': ' protein'}"
      ]
     },
     "execution_count": 93,
     "metadata": {},
     "output_type": "execute_result"
    }
   ],
   "source": [
    "df['inputIngredient'][0]"
   ]
  },
  {
   "cell_type": "code",
   "execution_count": 71,
   "metadata": {},
   "outputs": [
    {
     "data": {
      "text/plain": [
       "['chicken_breast',\n",
       " 'soy_sauce',\n",
       " 'seaseme_oil',\n",
       " 'honey',\n",
       " 'sriracha',\n",
       " 'cucumber',\n",
       " 'apple_cider_vinegar',\n",
       " 'lettuce',\n",
       " 'shredded_carrots',\n",
       " 'ginger',\n",
       " 'ginger',\n",
       " 'wonton_strips',\n",
       " 'tahini']"
      ]
     },
     "execution_count": 71,
     "metadata": {},
     "output_type": "execute_result"
    }
   ],
   "source": [
    "list_ids('chinese_chicken_salad')"
   ]
  },
  {
   "cell_type": "code",
   "execution_count": 72,
   "metadata": {},
   "outputs": [
    {
     "data": {
      "text/plain": [
       "['garlic',\n",
       " 'lemon',\n",
       " 'olive_oil',\n",
       " 'lettuce',\n",
       " 'parm',\n",
       " 'anchovies',\n",
       " 'dijon_mustard',\n",
       " 'croutons',\n",
       " 'meat']"
      ]
     },
     "execution_count": 72,
     "metadata": {},
     "output_type": "execute_result"
    }
   ],
   "source": [
    "list_ids('caesar_salad')"
   ]
  },
  {
   "cell_type": "code",
   "execution_count": 69,
   "metadata": {},
   "outputs": [
    {
     "data": {
      "text/plain": [
       "['garlic',\n",
       " 'olive_oil',\n",
       " 'heavy_cream',\n",
       " 'parm',\n",
       " 'onion',\n",
       " 'tomatos',\n",
       " 'red_bell_pepper',\n",
       " 'dried_basil',\n",
       " 'dried_oregano',\n",
       " 'chicken_broth',\n",
       " 'basil']"
      ]
     },
     "execution_count": 69,
     "metadata": {},
     "output_type": "execute_result"
    }
   ],
   "source": [
    "list_ids('tomato_soup')"
   ]
  },
  {
   "cell_type": "code",
   "execution_count": 70,
   "metadata": {},
   "outputs": [
    {
     "data": {
      "text/plain": [
       "['garlic',\n",
       " 'lemon',\n",
       " 'calabrian_chilis',\n",
       " 'olive_oil',\n",
       " 'red_onion',\n",
       " 'pasta',\n",
       " 'tomato_paste',\n",
       " 'heavy_cream']"
      ]
     },
     "execution_count": 70,
     "metadata": {},
     "output_type": "execute_result"
    }
   ],
   "source": [
    "list_ids('vodka_pasta')"
   ]
  },
  {
   "cell_type": "code",
   "execution_count": 76,
   "metadata": {},
   "outputs": [
    {
     "data": {
      "text/plain": [
       "{'korean_chicken_sandwhiches': 5,\n",
       " 'chinese_chicken_salad': 13,\n",
       " 'chicken_teriyaki': 1,\n",
       " 'sausage_risotto': 1,\n",
       " 'bone_broth_soup': 1,\n",
       " 'steak_salad': 2,\n",
       " 'salmon_bowl': 1,\n",
       " 'quinoa': 2,\n",
       " 'mediterranean_bowl': 1,\n",
       " 'short_rib_bowl': 1,\n",
       " 'turkey_burger': 1,\n",
       " 'caesar_salad': 1,\n",
       " 'blta': 2,\n",
       " 'caprese_sandwich': 1}"
      ]
     },
     "execution_count": 76,
     "metadata": {},
     "output_type": "execute_result"
    }
   ],
   "source": [
    "# hard coded similarity\n",
    "\n",
    "start = 'chinese_chicken_salad'\n",
    "ing = list_ids(start)\n",
    "similar = {}\n",
    "for i in ing:\n",
    "    # print(i)\n",
    "    sim = list_ids(i)\n",
    "    for s in sim:\n",
    "        if s not in similar:\n",
    "            similar[s] = 0\n",
    "        similar[s] += 1\n",
    "\n",
    "similar"
   ]
  },
  {
   "cell_type": "code",
   "execution_count": 75,
   "metadata": {},
   "outputs": [
    {
     "name": "stdout",
     "output_type": "stream",
     "text": [
      "cherry_tomato_pasta\n",
      "['garlic', 'angel_hair', 'cherry_tomatos', 'calabrian_chilis', 'olive_oil', 'chicken_thigh']\n",
      "curry\n",
      "['rice', 'chicken_thigh', 'curry_paste', 'frozen_veggies', 'red_onion']\n"
     ]
    }
   ],
   "source": [
    "ing = list_ids('chicken_thigh')\n",
    "for i in ing:\n",
    "    print(i)\n",
    "    print(list_ids(i))"
   ]
  },
  {
   "cell_type": "code",
   "execution_count": 50,
   "metadata": {},
   "outputs": [
    {
     "data": {
      "text/html": [
       "<div>\n",
       "<style scoped>\n",
       "    .dataframe tbody tr th:only-of-type {\n",
       "        vertical-align: middle;\n",
       "    }\n",
       "\n",
       "    .dataframe tbody tr th {\n",
       "        vertical-align: top;\n",
       "    }\n",
       "\n",
       "    .dataframe thead th {\n",
       "        text-align: right;\n",
       "    }\n",
       "</style>\n",
       "<table border=\"1\" class=\"dataframe\">\n",
       "  <thead>\n",
       "    <tr style=\"text-align: right;\">\n",
       "      <th></th>\n",
       "      <th>Ingredient</th>\n",
       "      <th>Quantity</th>\n",
       "    </tr>\n",
       "  </thead>\n",
       "  <tbody>\n",
       "    <tr>\n",
       "      <th>0</th>\n",
       "      <td>Cherry Tomato Pasta</td>\n",
       "      <td>1</td>\n",
       "    </tr>\n",
       "    <tr>\n",
       "      <th>1</th>\n",
       "      <td>Curry</td>\n",
       "      <td>eyeball</td>\n",
       "    </tr>\n",
       "  </tbody>\n",
       "</table>\n",
       "</div>"
      ],
      "text/plain": [
       "            Ingredient Quantity\n",
       "0  Cherry Tomato Pasta        1\n",
       "1                Curry  eyeball"
      ]
     },
     "execution_count": 50,
     "metadata": {},
     "output_type": "execute_result"
    }
   ],
   "source": [
    "find_edges('chicken_thigh')"
   ]
  },
  {
   "cell_type": "code",
   "execution_count": 64,
   "metadata": {},
   "outputs": [
    {
     "data": {
      "text/plain": [
       "[]"
      ]
     },
     "execution_count": 64,
     "metadata": {},
     "output_type": "execute_result"
    }
   ],
   "source": [
    "find_edges(\"cherry_tomato_pasta\")"
   ]
  },
  {
   "cell_type": "code",
   "execution_count": null,
   "metadata": {},
   "outputs": [],
   "source": []
  }
 ],
 "metadata": {
  "kernelspec": {
   "display_name": "kuzu_env",
   "language": "python",
   "name": "python3"
  },
  "language_info": {
   "codemirror_mode": {
    "name": "ipython",
    "version": 3
   },
   "file_extension": ".py",
   "mimetype": "text/x-python",
   "name": "python",
   "nbconvert_exporter": "python",
   "pygments_lexer": "ipython3",
   "version": "3.12.6"
  }
 },
 "nbformat": 4,
 "nbformat_minor": 2
}
